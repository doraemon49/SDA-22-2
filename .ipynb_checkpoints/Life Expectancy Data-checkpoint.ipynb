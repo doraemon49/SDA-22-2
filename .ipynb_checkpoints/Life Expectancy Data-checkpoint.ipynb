{
 "cells": [
  {
   "cell_type": "code",
   "execution_count": null,
   "id": "adaa9cb6",
   "metadata": {},
   "outputs": [],
   "source": [
    "import pandas as pd\n",
    "import matplotlib.pyplot as plt\n",
    "import numpy as np\n",
    "import seaborn as sns\n",
    "import matplotlib as mpl\n",
    "from datetime import datetime"
   ]
  },
  {
   "cell_type": "code",
   "execution_count": null,
   "id": "b40264b7",
   "metadata": {},
   "outputs": [],
   "source": [
    "data = pd.read_csv('Life Expectancy Data.csv')\n",
    "data.head()"
   ]
  },
  {
   "cell_type": "code",
   "execution_count": null,
   "id": "e16cfdcf",
   "metadata": {},
   "outputs": [],
   "source": [
    "data_devel = data[data['Status']=='Developing']\n",
    "data_devel.head()"
   ]
  },
  {
   "cell_type": "code",
   "execution_count": null,
   "id": "3689a609",
   "metadata": {},
   "outputs": [],
   "source": [
    "sns.scatterplot(data=data_devel, x='Country', y='Life_expect',hue='Year')"
   ]
  },
  {
   "cell_type": "code",
   "execution_count": null,
   "id": "b7f600d0",
   "metadata": {},
   "outputs": [],
   "source": [
    "data2015 = data[data['Year']==2015]\n",
    "data2015.head()"
   ]
  },
  {
   "cell_type": "code",
   "execution_count": null,
   "id": "87cd2f62",
   "metadata": {},
   "outputs": [],
   "source": [
    "sns.scatterplot(data=data2015, x='Country', y='Life_expect')"
   ]
  }
 ],
 "metadata": {
  "kernelspec": {
   "display_name": "Python 3 (ipykernel)",
   "language": "python",
   "name": "python3"
  },
  "language_info": {
   "codemirror_mode": {
    "name": "ipython",
    "version": 3
   },
   "file_extension": ".py",
   "mimetype": "text/x-python",
   "name": "python",
   "nbconvert_exporter": "python",
   "pygments_lexer": "ipython3",
   "version": "3.9.7"
  }
 },
 "nbformat": 4,
 "nbformat_minor": 5
}
